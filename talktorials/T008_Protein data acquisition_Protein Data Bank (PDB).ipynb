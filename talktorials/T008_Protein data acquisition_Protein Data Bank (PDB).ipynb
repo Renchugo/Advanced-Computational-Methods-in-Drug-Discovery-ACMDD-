{
 "cells": [
  {
   "cell_type": "markdown",
   "id": "8ae23af9",
   "metadata": {},
   "source": [
    "### T008_Protein data acquisition: Protein Data Bank (PDB)"
   ]
  },
  {
   "cell_type": "code",
   "execution_count": 1,
   "id": "6674682e",
   "metadata": {
    "scrolled": true
   },
   "outputs": [
    {
     "name": "stdout",
     "output_type": "stream",
     "text": [
      "Collecting biotite\n",
      "  Using cached biotite-0.35.0-cp39-cp39-manylinux1_x86_64.whl (32.1 MB)\n",
      "Requirement already satisfied: networkx>=2.0 in /opt/conda/lib/python3.9/site-packages (from biotite) (2.8.5)\n",
      "Requirement already satisfied: numpy>=1.19 in /opt/conda/lib/python3.9/site-packages (from biotite) (1.22.1)\n",
      "Requirement already satisfied: requests>=2.12 in /opt/conda/lib/python3.9/site-packages (from biotite) (2.27.1)\n",
      "Requirement already satisfied: msgpack>=0.5.6 in /opt/conda/lib/python3.9/site-packages (from biotite) (1.0.4)\n",
      "Requirement already satisfied: certifi>=2017.4.17 in /opt/conda/lib/python3.9/site-packages (from requests>=2.12->biotite) (2022.6.15)\n",
      "Requirement already satisfied: urllib3<1.27,>=1.21.1 in /opt/conda/lib/python3.9/site-packages (from requests>=2.12->biotite) (1.26.9)\n",
      "Requirement already satisfied: charset-normalizer~=2.0.0 in /opt/conda/lib/python3.9/site-packages (from requests>=2.12->biotite) (2.0.12)\n",
      "Requirement already satisfied: idna<4,>=2.5 in /opt/conda/lib/python3.9/site-packages (from requests>=2.12->biotite) (3.3)\n",
      "Installing collected packages: biotite\n",
      "Successfully installed biotite-0.35.0\n",
      "Collecting pypdb\n",
      "  Using cached pypdb-2.2-py3-none-any.whl (34 kB)\n",
      "Requirement already satisfied: requests in /opt/conda/lib/python3.9/site-packages (from pypdb) (2.27.1)\n",
      "Requirement already satisfied: urllib3<1.27,>=1.21.1 in /opt/conda/lib/python3.9/site-packages (from requests->pypdb) (1.26.9)\n",
      "Requirement already satisfied: idna<4,>=2.5 in /opt/conda/lib/python3.9/site-packages (from requests->pypdb) (3.3)\n",
      "Requirement already satisfied: charset-normalizer~=2.0.0 in /opt/conda/lib/python3.9/site-packages (from requests->pypdb) (2.0.12)\n",
      "Requirement already satisfied: certifi>=2017.4.17 in /opt/conda/lib/python3.9/site-packages (from requests->pypdb) (2022.6.15)\n",
      "Installing collected packages: pypdb\n",
      "Successfully installed pypdb-2.2\n",
      "Collecting redo\n",
      "  Using cached redo-2.0.4-py2.py3-none-any.whl\n",
      "Installing collected packages: redo\n",
      "Successfully installed redo-2.0.4\n",
      "Requirement already satisfied: requests-cache in /opt/conda/lib/python3.9/site-packages (0.7.5)\n",
      "Requirement already satisfied: pyyaml>=5.4 in /opt/conda/lib/python3.9/site-packages (from requests-cache) (6.0)\n",
      "Requirement already satisfied: requests<3.0,>=2.17 in /opt/conda/lib/python3.9/site-packages (from requests-cache) (2.27.1)\n",
      "Requirement already satisfied: itsdangerous>=2.0.1 in /opt/conda/lib/python3.9/site-packages (from requests-cache) (2.1.2)\n",
      "Requirement already satisfied: attrs<22.0,>=21.2 in /opt/conda/lib/python3.9/site-packages (from requests-cache) (21.4.0)\n",
      "Requirement already satisfied: url-normalize<2.0,>=1.4 in /opt/conda/lib/python3.9/site-packages (from requests-cache) (1.4.3)\n",
      "Requirement already satisfied: urllib3<1.27,>=1.21.1 in /opt/conda/lib/python3.9/site-packages (from requests<3.0,>=2.17->requests-cache) (1.26.9)\n",
      "Requirement already satisfied: charset-normalizer~=2.0.0 in /opt/conda/lib/python3.9/site-packages (from requests<3.0,>=2.17->requests-cache) (2.0.12)\n",
      "Requirement already satisfied: idna<4,>=2.5 in /opt/conda/lib/python3.9/site-packages (from requests<3.0,>=2.17->requests-cache) (3.3)\n",
      "Requirement already satisfied: certifi>=2017.4.17 in /opt/conda/lib/python3.9/site-packages (from requests<3.0,>=2.17->requests-cache) (2022.6.15)\n",
      "Requirement already satisfied: six in /opt/conda/lib/python3.9/site-packages (from url-normalize<2.0,>=1.4->requests-cache) (1.16.0)\n",
      "Collecting https://github.com/volkamerlab/opencadd/archive/master.tar.gz\n",
      "  Using cached https://github.com/volkamerlab/opencadd/archive/master.tar.gz\n",
      "  Preparing metadata (setup.py) ... \u001b[?25ldone\n",
      "\u001b[?25hBuilding wheels for collected packages: opencadd\n",
      "  Building wheel for opencadd (setup.py) ... \u001b[?25ldone\n",
      "\u001b[?25h  Created wheel for opencadd: filename=opencadd-0+unknown-py3-none-any.whl size=2726280 sha256=1c8de627c898edcb5e944ba76f1179db78a2b1f92e5dc754ebea126cb5bf04f0\n",
      "  Stored in directory: /tmp/pip-ephem-wheel-cache-bx3bl0st/wheels/c4/d1/e8/af9f4d1460d587ba9f8be35d1d674a2ff37661fe932e627180\n",
      "Successfully built opencadd\n",
      "Installing collected packages: opencadd\n",
      "Successfully installed opencadd-0+unknown\n"
     ]
    },
    {
     "name": "stderr",
     "output_type": "stream",
     "text": [
      "/opt/conda/lib/python3.9/site-packages/requests/__init__.py:102: RequestsDependencyWarning: urllib3 (1.26.9) or chardet (5.0.0)/charset_normalizer (2.0.12) doesn't match a supported version!\n",
      "  warnings.warn(\"urllib3 ({}) or chardet ({})/charset_normalizer ({}) doesn't match a supported \"\n"
     ]
    },
    {
     "data": {
      "application/vnd.jupyter.widget-view+json": {
       "model_id": "9f620f046d524d059774c0d8dcc42aec",
       "version_major": 2,
       "version_minor": 0
      },
      "text/plain": []
     },
     "metadata": {},
     "output_type": "display_data"
    }
   ],
   "source": [
    "!pip install biotite\n",
    "!pip install pypdb\n",
    "!pip install redo\n",
    "!pip install requests-cache\n",
    "!pip install https://github.com/volkamerlab/opencadd/archive/master.tar.gz\n",
    "\n",
    "import collections\n",
    "import logging\n",
    "import pathlib\n",
    "import time\n",
    "import warnings\n",
    "import datetime\n",
    "\n",
    "import pandas as pd\n",
    "import matplotlib.pyplot as plt\n",
    "from bs4 import BeautifulSoup\n",
    "import requests\n",
    "from tqdm.auto import tqdm\n",
    "import redo\n",
    "import requests_cache\n",
    "import nglview\n",
    "import pypdb\n",
    "import biotite.database.rcsb as rcsb\n",
    "from rdkit.Chem import Draw\n",
    "from rdkit.Chem import PandasTools\n",
    "\n",
    "from opencadd.structure.superposition.api import align, METHODS\n",
    "from opencadd.structure.core import Structure\n",
    "\n",
    "# Disable some unneeded warnings\n",
    "logger = logging.getLogger(\"opencadd\")\n",
    "logger.setLevel(logging.ERROR)\n",
    "warnings.filterwarnings(\"ignore\")\n",
    "\n",
    "# Cache requests -- this will speed up repeated queries to PDB\n",
    "requests_cache.install_cache(\"rcsb_pdb\", backend=\"memory\")"
   ]
  },
  {
   "cell_type": "code",
   "execution_count": 6,
   "id": "d09f0896",
   "metadata": {},
   "outputs": [],
   "source": [
    "# Define paths\n",
    "HERE = pathlib.Path(_dh[-1])\n",
    "DATA = HERE / \"data\""
   ]
  },
  {
   "cell_type": "markdown",
   "id": "7509b6af",
   "metadata": {},
   "source": [
    "### Select a query protein"
   ]
  },
  {
   "cell_type": "code",
   "execution_count": 7,
   "id": "ae661aba",
   "metadata": {},
   "outputs": [],
   "source": [
    "uniprot_id = \"Q07820\""
   ]
  },
  {
   "cell_type": "markdown",
   "id": "b0cf1c59",
   "metadata": {},
   "source": [
    "### Get the number of PDB entries for a query protein"
   ]
  },
  {
   "cell_type": "code",
   "execution_count": 8,
   "id": "d39ff091",
   "metadata": {},
   "outputs": [
    {
     "name": "stdout",
     "output_type": "stream",
     "text": [
      "Number of structures on 2022-10-28: 112\n"
     ]
    }
   ],
   "source": [
    "query_by_uniprot_id = rcsb.FieldQuery(\n",
    "    \"rcsb_polymer_entity_container_identifiers.reference_sequence_identifiers.database_accession\",\n",
    "    exact_match=uniprot_id,\n",
    ")\n",
    "today = datetime.datetime.now()\n",
    "print(\n",
    "    f\"Number of structures on {today.year}-{today.month}-{today.day}: {rcsb.count(query_by_uniprot_id)}\"\n",
    ")"
   ]
  },
  {
   "cell_type": "code",
   "execution_count": 9,
   "id": "4a0ebe95",
   "metadata": {},
   "outputs": [],
   "source": [
    "# Define lists for years and number of structures available in a given year\n",
    "years = range(1971, datetime.datetime.now().year)\n",
    "n_structures = []\n",
    "\n",
    "for year in years:\n",
    "    # Set latest date for allowed deposition\n",
    "    before_deposition_date = f\"{year}-12-31T23:59:59Z\"\n",
    "    # Set up query for structures deposited latest at given date\n",
    "    query_by_deposition_date = rcsb.FieldQuery(\n",
    "        \"rcsb_accession_info.deposit_date\", less_or_equal=before_deposition_date\n",
    "    )\n",
    "    # Set up combined query\n",
    "    query = rcsb.CompositeQuery(\n",
    "        [query_by_uniprot_id, query_by_deposition_date],\n",
    "        \"and\",\n",
    "    )\n",
    "    # Count matching structures and add to list\n",
    "    n_structures.append(rcsb.count(query))\n",
    "    # wait shortly to not overload the API\n",
    "    time.sleep(0.1)"
   ]
  },
  {
   "cell_type": "markdown",
   "id": "a1413cd9",
   "metadata": {},
   "source": [
    "### Plot the results!"
   ]
  },
  {
   "cell_type": "code",
   "execution_count": 10,
   "id": "6f4bdcbb",
   "metadata": {},
   "outputs": [
    {
     "data": {
      "image/png": "[encoded data removed]",
      "text/plain": [
       "<Figure size 432x288 with 1 Axes>"
      ]
     },
     "metadata": {
      "needs_background": "light"
     },
     "output_type": "display_data"
    }
   ],
   "source": [
    "plt.plot(years, n_structures)\n",
    "plt.title(\"PDB entries for EGFR\")\n",
    "plt.xlabel(\"Year\")\n",
    "plt.ylabel(\"Number of structures available in a given year\");"
   ]
  },
  {
   "cell_type": "markdown",
   "id": "5b72bbdc",
   "metadata": {},
   "source": [
    "### Define certain conditions to fullfill PDB entries"
   ]
  },
  {
   "cell_type": "code",
   "execution_count": 11,
   "id": "4c70f441",
   "metadata": {},
   "outputs": [],
   "source": [
    "uniprot_id = \"Q07820\"\n",
    "before_deposition_date = \"2020-01-01T00:00:00Z\"\n",
    "experimental_method = \"X-RAY DIFFRACTION\"\n",
    "max_resolution = 3.0\n",
    "n_chains = 1\n",
    "min_ligand_molecular_weight = 100.0"
   ]
  },
  {
   "cell_type": "markdown",
   "id": "3fbb54f6",
   "metadata": {},
   "source": [
    "### Set up each query"
   ]
  },
  {
   "cell_type": "code",
   "execution_count": 12,
   "id": "1e369502",
   "metadata": {},
   "outputs": [],
   "source": [
    "query_by_uniprot_id = rcsb.FieldQuery(\n",
    "    \"rcsb_polymer_entity_container_identifiers.reference_sequence_identifiers.database_accession\",\n",
    "    exact_match=uniprot_id,\n",
    ")\n",
    "query_by_deposition_date = rcsb.FieldQuery(\n",
    "    \"rcsb_accession_info.deposit_date\", less=before_deposition_date\n",
    ")\n",
    "query_by_experimental_method = rcsb.FieldQuery(\"exptl.method\", exact_match=experimental_method)\n",
    "query_by_resolution = rcsb.FieldQuery(\n",
    "    \"rcsb_entry_info.resolution_combined\", less_or_equal=max_resolution\n",
    ")\n",
    "query_by_polymer_count = rcsb.FieldQuery(\n",
    "    \"rcsb_entry_info.deposited_polymer_entity_instance_count\", equals=n_chains\n",
    ")\n",
    "query_by_ligand_mw = rcsb.FieldQuery(\n",
    "    \"chem_comp.formula_weight\", molecular_definition=True, greater=min_ligand_molecular_weight\n",
    ")"
   ]
  },
  {
   "cell_type": "markdown",
   "id": "b2e51210",
   "metadata": {},
   "source": [
    "### Perform each of the queries alone and check the number of matches per condition"
   ]
  },
  {
   "cell_type": "code",
   "execution_count": 13,
   "id": "2073973d",
   "metadata": {},
   "outputs": [
    {
     "name": "stdout",
     "output_type": "stream",
     "text": [
      "Number of structures with UniProt ID Q07820: 112\n",
      "Number of structures deposited before 2020-01-01T00:00:00Z: 166329\n",
      "Number of structures resolved by X-RAY DIFFRACTION: 170006\n",
      "Number of structures with resolution less than or equal to 3.0: 161903\n",
      "Number of structures with only 1 chain: 72582\n",
      "Number of structures with ligand of more than or equal to 100.0 Da: 1197339\n"
     ]
    }
   ],
   "source": [
    "print(f\"Number of structures with UniProt ID {uniprot_id}: {rcsb.count(query_by_uniprot_id)}\")\n",
    "time.sleep(0.1)  # wait shortly to not overload the API\n",
    "print(\n",
    "    f\"Number of structures deposited before {before_deposition_date}: {rcsb.count(query_by_deposition_date)}\"\n",
    ")\n",
    "time.sleep(0.1)\n",
    "print(\n",
    "    f\"Number of structures resolved by {experimental_method}: {rcsb.count(query_by_experimental_method)}\"\n",
    ")\n",
    "time.sleep(0.1)\n",
    "print(\n",
    "    f\"Number of structures with resolution less than or equal to {max_resolution}: {rcsb.count(query_by_resolution)}\"\n",
    ")\n",
    "time.sleep(0.1)\n",
    "print(f\"Number of structures with only {n_chains} chain: {rcsb.count(query_by_polymer_count)}\")\n",
    "time.sleep(0.1)\n",
    "print(\n",
    "    f\"Number of structures with ligand of more than or equal to {min_ligand_molecular_weight} Da: {rcsb.count(query_by_ligand_mw)}\"\n",
    ")"
   ]
  },
  {
   "cell_type": "markdown",
   "id": "3384f0c9",
   "metadata": {},
   "source": [
    "### Combine all queries with the and operator to match only PDB IDs that fulfill all the conditions"
   ]
  },
  {
   "cell_type": "code",
   "execution_count": 14,
   "id": "d5cf257b",
   "metadata": {},
   "outputs": [
    {
     "name": "stdout",
     "output_type": "stream",
     "text": [
      "Number of matches: 34\n",
      "Selected PDB IDs:\n",
      "4WMR 4WGI 6QZB 5FC4 6UD2 4WMX 6QXJ 5LOF 4WMW 4WMV 4WMU 4WMT 4WMS 6P3P 6U64 6QFQ 6UDI 6UDT 6UDU 6QYN 6B4U 6QYK 6QYL 6OQD 6OQB 6O6G 6QZ6 6QZ7 6QGD 6QZ5 6UDV 6QYO 6QYP 6QZ8\n"
     ]
    }
   ],
   "source": [
    "query = rcsb.CompositeQuery(\n",
    "    [\n",
    "        query_by_uniprot_id,\n",
    "        query_by_deposition_date,\n",
    "        query_by_experimental_method,\n",
    "        query_by_resolution,\n",
    "        query_by_polymer_count,\n",
    "        query_by_ligand_mw,\n",
    "    ],\n",
    "    \"and\",\n",
    ")\n",
    "pdb_ids = rcsb.search(query)\n",
    "print(f\"Number of matches: {len(pdb_ids)}\")\n",
    "print(\"Selected PDB IDs:\")\n",
    "print(*pdb_ids)"
   ]
  },
  {
   "cell_type": "markdown",
   "id": "ccc77177",
   "metadata": {},
   "source": [
    "### Select PDB entries with the hightest resolution"
   ]
  },
  {
   "cell_type": "markdown",
   "id": "1aea1ca8",
   "metadata": {},
   "source": [
    "### Download the full metadata for selected PDB IDs"
   ]
  },
  {
   "cell_type": "code",
   "execution_count": 15,
   "id": "cdd36a98",
   "metadata": {},
   "outputs": [
    {
     "data": {
      "application/vnd.jupyter.widget-view+json": {
       "model_id": "d062e98e8a9444a9a5b12c4d34e31e94",
       "version_major": 2,
       "version_minor": 0
      },
      "text/plain": [
       "  0%|          | 0/34 [00:00<?, ?it/s]"
      ]
     },
     "metadata": {},
     "output_type": "display_data"
    }
   ],
   "source": [
    "@redo.retriable(attempts=10, sleeptime=2)\n",
    "def describe_one_pdb_id(pdb_id):\n",
    "    \"\"\"Fetch meta information from PDB.\"\"\"\n",
    "    described = pypdb.describe_pdb(pdb_id)\n",
    "    if described is None:\n",
    "        print(f\"! Error while fetching {pdb_id}, retrying ...\")\n",
    "        raise ValueError(f\"Could not fetch PDB id {pdb_id}\")\n",
    "    return described\n",
    "\n",
    "pdbs_data = [describe_one_pdb_id(pdb_id) for pdb_id in tqdm(pdb_ids)]"
   ]
  },
  {
   "cell_type": "markdown",
   "id": "09c16d58",
   "metadata": {},
   "source": [
    "### Take a look at the metadata of the first PDB IDs"
   ]
  },
  {
   "cell_type": "code",
   "execution_count": 16,
   "id": "3ce01987",
   "metadata": {},
   "outputs": [
    {
     "name": "stdout",
     "output_type": "stream",
     "text": [
      "audit_author\n",
      "cell\n",
      "citation\n",
      "diffrn\n",
      "diffrn_detector\n",
      "diffrn_radiation\n",
      "diffrn_source\n",
      "entry\n",
      "exptl\n",
      "exptl_crystal\n",
      "exptl_crystal_grow\n",
      "pdbx_audit_revision_details\n",
      "pdbx_audit_revision_history\n",
      "pdbx_database_related\n",
      "pdbx_database_status\n",
      "pdbx_vrpt_summary\n",
      "rcsb_accession_info\n",
      "rcsb_entry_container_identifiers\n",
      "rcsb_entry_info\n",
      "rcsb_primary_citation\n",
      "refine\n",
      "refine_hist\n",
      "refine_ls_restr\n",
      "reflns\n",
      "reflns_shell\n",
      "software\n",
      "struct\n",
      "struct_keywords\n",
      "symmetry\n",
      "rcsb_id\n"
     ]
    }
   ],
   "source": [
    "print(\"\\n\".join(pdbs_data[0].keys()))"
   ]
  },
  {
   "cell_type": "code",
   "execution_count": 17,
   "id": "91b7e964",
   "metadata": {},
   "outputs": [
    {
     "data": {
      "text/plain": [
       "{'id': '4WMR'}"
      ]
     },
     "execution_count": 17,
     "metadata": {},
     "output_type": "execute_result"
    }
   ],
   "source": [
    "# The \"entry\" key which contains the PDB ID \n",
    "pdbs_data[0][\"entry\"]"
   ]
  },
  {
   "cell_type": "code",
   "execution_count": 18,
   "id": "9cfa9d5c",
   "metadata": {},
   "outputs": [
    {
     "data": {
      "text/plain": [
       "{'assembly_count': 3,\n",
       " 'branched_entity_count': 0,\n",
       " 'cis_peptide_count': 0,\n",
       " 'deposited_atom_count': 1373,\n",
       " 'deposited_hydrogen_atom_count': 0,\n",
       " 'deposited_model_count': 1,\n",
       " 'deposited_modeled_polymer_monomer_count': 150,\n",
       " 'deposited_nonpolymer_entity_instance_count': 6,\n",
       " 'deposited_polymer_entity_instance_count': 1,\n",
       " 'deposited_polymer_monomer_count': 150,\n",
       " 'deposited_solvent_atom_count': 123,\n",
       " 'deposited_unmodeled_polymer_monomer_count': 0,\n",
       " 'diffrn_radiation_wavelength_maximum': 1.54,\n",
       " 'diffrn_radiation_wavelength_minimum': 1.54,\n",
       " 'disulfide_bond_count': 0,\n",
       " 'entity_count': 5,\n",
       " 'experimental_method': 'X-ray',\n",
       " 'experimental_method_count': 1,\n",
       " 'inter_mol_covalent_bond_count': 0,\n",
       " 'inter_mol_metalic_bond_count': 11,\n",
       " 'molecular_weight': 18.34,\n",
       " 'na_polymer_entity_types': 'Other',\n",
       " 'nonpolymer_bound_components': ['865', 'POP', 'ZN'],\n",
       " 'nonpolymer_entity_count': 3,\n",
       " 'nonpolymer_molecular_weight_maximum': 0.63,\n",
       " 'nonpolymer_molecular_weight_minimum': 0.07,\n",
       " 'polymer_composition': 'homomeric protein',\n",
       " 'polymer_entity_count': 1,\n",
       " 'polymer_entity_count_dna': 0,\n",
       " 'polymer_entity_count_rna': 0,\n",
       " 'polymer_entity_count_nucleic_acid': 0,\n",
       " 'polymer_entity_count_nucleic_acid_hybrid': 0,\n",
       " 'polymer_entity_count_protein': 1,\n",
       " 'polymer_entity_taxonomy_count': 1,\n",
       " 'polymer_molecular_weight_maximum': 17.16,\n",
       " 'polymer_molecular_weight_minimum': 17.16,\n",
       " 'polymer_monomer_count_maximum': 150,\n",
       " 'polymer_monomer_count_minimum': 150,\n",
       " 'resolution_combined': [1.7],\n",
       " 'selected_polymer_entity_types': 'Protein (only)',\n",
       " 'software_programs_combined': ['PDB_EXTRACT', 'REFMAC', 'XDS'],\n",
       " 'solvent_entity_count': 1,\n",
       " 'structure_determination_methodology': 'experimental',\n",
       " 'structure_determination_methodology_priority': 10,\n",
       " 'diffrn_resolution_high': {'provenance_source': 'Depositor assigned',\n",
       "  'value': 1.7}}"
      ]
     },
     "execution_count": 18,
     "metadata": {},
     "output_type": "execute_result"
    }
   ],
   "source": [
    "# The \"rcsb_entry_info\" key which contains amongst others the structure's resolution (\"resolution_combined\"\n",
    "pdbs_data[0][\"rcsb_entry_info\"]"
   ]
  },
  {
   "cell_type": "markdown",
   "id": "5bcc9dae",
   "metadata": {},
   "source": [
    "### Save the resolution per PDB ID as pandas DataFrame, sorted by the resolution in ascending order"
   ]
  },
  {
   "cell_type": "code",
   "execution_count": 19,
   "id": "ec90dc2d",
   "metadata": {},
   "outputs": [
    {
     "data": {
      "text/html": [
       "<div>\n",
       "<style scoped>\n",
       "    .dataframe tbody tr th:only-of-type {\n",
       "        vertical-align: middle;\n",
       "    }\n",
       "\n",
       "    .dataframe tbody tr th {\n",
       "        vertical-align: top;\n",
       "    }\n",
       "\n",
       "    .dataframe thead th {\n",
       "        text-align: right;\n",
       "    }\n",
       "</style>\n",
       "<table border=\"1\" class=\"dataframe\">\n",
       "  <thead>\n",
       "    <tr style=\"text-align: right;\">\n",
       "      <th></th>\n",
       "      <th>pdb_id</th>\n",
       "      <th>resolution</th>\n",
       "    </tr>\n",
       "  </thead>\n",
       "  <tbody>\n",
       "    <tr>\n",
       "      <th>0</th>\n",
       "      <td>6UDV</td>\n",
       "      <td>1.35</td>\n",
       "    </tr>\n",
       "    <tr>\n",
       "      <th>1</th>\n",
       "      <td>6OQD</td>\n",
       "      <td>1.48</td>\n",
       "    </tr>\n",
       "    <tr>\n",
       "      <th>2</th>\n",
       "      <td>6UDT</td>\n",
       "      <td>1.50</td>\n",
       "    </tr>\n",
       "    <tr>\n",
       "      <th>3</th>\n",
       "      <td>5FC4</td>\n",
       "      <td>1.50</td>\n",
       "    </tr>\n",
       "    <tr>\n",
       "      <th>4</th>\n",
       "      <td>4WMU</td>\n",
       "      <td>1.55</td>\n",
       "    </tr>\n",
       "    <tr>\n",
       "      <th>5</th>\n",
       "      <td>6OQB</td>\n",
       "      <td>1.60</td>\n",
       "    </tr>\n",
       "    <tr>\n",
       "      <th>6</th>\n",
       "      <td>6QFQ</td>\n",
       "      <td>1.60</td>\n",
       "    </tr>\n",
       "    <tr>\n",
       "      <th>7</th>\n",
       "      <td>6P3P</td>\n",
       "      <td>1.61</td>\n",
       "    </tr>\n",
       "    <tr>\n",
       "      <th>8</th>\n",
       "      <td>4WMR</td>\n",
       "      <td>1.70</td>\n",
       "    </tr>\n",
       "    <tr>\n",
       "      <th>9</th>\n",
       "      <td>6QXJ</td>\n",
       "      <td>1.70</td>\n",
       "    </tr>\n",
       "    <tr>\n",
       "      <th>10</th>\n",
       "      <td>6UD2</td>\n",
       "      <td>1.70</td>\n",
       "    </tr>\n",
       "    <tr>\n",
       "      <th>11</th>\n",
       "      <td>6UDU</td>\n",
       "      <td>1.75</td>\n",
       "    </tr>\n",
       "    <tr>\n",
       "      <th>12</th>\n",
       "      <td>6QGD</td>\n",
       "      <td>1.80</td>\n",
       "    </tr>\n",
       "    <tr>\n",
       "      <th>13</th>\n",
       "      <td>4WGI</td>\n",
       "      <td>1.85</td>\n",
       "    </tr>\n",
       "    <tr>\n",
       "      <th>14</th>\n",
       "      <td>4WMS</td>\n",
       "      <td>1.90</td>\n",
       "    </tr>\n",
       "    <tr>\n",
       "      <th>15</th>\n",
       "      <td>6QZ6</td>\n",
       "      <td>1.90</td>\n",
       "    </tr>\n",
       "    <tr>\n",
       "      <th>16</th>\n",
       "      <td>4WMW</td>\n",
       "      <td>1.90</td>\n",
       "    </tr>\n",
       "    <tr>\n",
       "      <th>17</th>\n",
       "      <td>6UDI</td>\n",
       "      <td>1.94</td>\n",
       "    </tr>\n",
       "    <tr>\n",
       "      <th>18</th>\n",
       "      <td>6B4U</td>\n",
       "      <td>1.95</td>\n",
       "    </tr>\n",
       "    <tr>\n",
       "      <th>19</th>\n",
       "      <td>4WMX</td>\n",
       "      <td>2.00</td>\n",
       "    </tr>\n",
       "    <tr>\n",
       "      <th>20</th>\n",
       "      <td>6QZ5</td>\n",
       "      <td>2.00</td>\n",
       "    </tr>\n",
       "    <tr>\n",
       "      <th>21</th>\n",
       "      <td>6QZB</td>\n",
       "      <td>2.00</td>\n",
       "    </tr>\n",
       "    <tr>\n",
       "      <th>22</th>\n",
       "      <td>6QYO</td>\n",
       "      <td>2.10</td>\n",
       "    </tr>\n",
       "    <tr>\n",
       "      <th>23</th>\n",
       "      <td>6QZ8</td>\n",
       "      <td>2.15</td>\n",
       "    </tr>\n",
       "    <tr>\n",
       "      <th>24</th>\n",
       "      <td>6QYL</td>\n",
       "      <td>2.20</td>\n",
       "    </tr>\n",
       "    <tr>\n",
       "      <th>25</th>\n",
       "      <td>5LOF</td>\n",
       "      <td>2.20</td>\n",
       "    </tr>\n",
       "    <tr>\n",
       "      <th>26</th>\n",
       "      <td>6QZ7</td>\n",
       "      <td>2.20</td>\n",
       "    </tr>\n",
       "    <tr>\n",
       "      <th>27</th>\n",
       "      <td>6QYP</td>\n",
       "      <td>2.20</td>\n",
       "    </tr>\n",
       "    <tr>\n",
       "      <th>28</th>\n",
       "      <td>6QYK</td>\n",
       "      <td>2.30</td>\n",
       "    </tr>\n",
       "    <tr>\n",
       "      <th>29</th>\n",
       "      <td>4WMT</td>\n",
       "      <td>2.35</td>\n",
       "    </tr>\n",
       "    <tr>\n",
       "      <th>30</th>\n",
       "      <td>4WMV</td>\n",
       "      <td>2.40</td>\n",
       "    </tr>\n",
       "    <tr>\n",
       "      <th>31</th>\n",
       "      <td>6O6G</td>\n",
       "      <td>2.40</td>\n",
       "    </tr>\n",
       "    <tr>\n",
       "      <th>32</th>\n",
       "      <td>6QYN</td>\n",
       "      <td>2.50</td>\n",
       "    </tr>\n",
       "    <tr>\n",
       "      <th>33</th>\n",
       "      <td>6U64</td>\n",
       "      <td>2.55</td>\n",
       "    </tr>\n",
       "  </tbody>\n",
       "</table>\n",
       "</div>"
      ],
      "text/plain": [
       "   pdb_id  resolution\n",
       "0    6UDV        1.35\n",
       "1    6OQD        1.48\n",
       "2    6UDT        1.50\n",
       "3    5FC4        1.50\n",
       "4    4WMU        1.55\n",
       "5    6OQB        1.60\n",
       "6    6QFQ        1.60\n",
       "7    6P3P        1.61\n",
       "8    4WMR        1.70\n",
       "9    6QXJ        1.70\n",
       "10   6UD2        1.70\n",
       "11   6UDU        1.75\n",
       "12   6QGD        1.80\n",
       "13   4WGI        1.85\n",
       "14   4WMS        1.90\n",
       "15   6QZ6        1.90\n",
       "16   4WMW        1.90\n",
       "17   6UDI        1.94\n",
       "18   6B4U        1.95\n",
       "19   4WMX        2.00\n",
       "20   6QZ5        2.00\n",
       "21   6QZB        2.00\n",
       "22   6QYO        2.10\n",
       "23   6QZ8        2.15\n",
       "24   6QYL        2.20\n",
       "25   5LOF        2.20\n",
       "26   6QZ7        2.20\n",
       "27   6QYP        2.20\n",
       "28   6QYK        2.30\n",
       "29   4WMT        2.35\n",
       "30   4WMV        2.40\n",
       "31   6O6G        2.40\n",
       "32   6QYN        2.50\n",
       "33   6U64        2.55"
      ]
     },
     "execution_count": 19,
     "metadata": {},
     "output_type": "execute_result"
    }
   ],
   "source": [
    "resolution = pd.DataFrame(\n",
    "    [\n",
    "        [pdb_data[\"entry\"][\"id\"], pdb_data[\"rcsb_entry_info\"][\"resolution_combined\"][0]]\n",
    "        for pdb_data in pdbs_data\n",
    "    ],\n",
    "    columns=[\"pdb_id\", \"resolution\"],\n",
    ").sort_values(by=\"resolution\", ignore_index=True)\n",
    "resolution"
   ]
  },
  {
   "cell_type": "markdown",
   "id": "2a33b35b",
   "metadata": {},
   "source": [
    "### Get metadata of ligands from top structures"
   ]
  },
  {
   "cell_type": "code",
   "execution_count": 20,
   "id": "5933ef15",
   "metadata": {},
   "outputs": [
    {
     "name": "stdout",
     "output_type": "stream",
     "text": [
      "Selected PDB IDs: ['6UDV', '6OQD', '6UDT', '5FC4', '4WMU', '6OQB']\n"
     ]
    }
   ],
   "source": [
    "# Number of top structures\n",
    "top_num = 6\n",
    "\n",
    "selected_pdb_ids = resolution[:top_num][\"pdb_id\"].to_list()\n",
    "print(f\"Selected PDB IDs: {selected_pdb_ids}\")"
   ]
  },
  {
   "cell_type": "markdown",
   "id": "830a1071",
   "metadata": {},
   "source": [
    "### The selected highest resolution PDB entries can contain ligands targeting different binding sites, e.g. allosteric and orthosteric ligands, which would hamper ligand-based pharmacophore generation. Considering this, however there is no literature containing such information to distinguish allosteric and orthosteric ligands."
   ]
  },
  {
   "cell_type": "markdown",
   "id": "d634f6b1",
   "metadata": {},
   "source": [
    "### Fetch the PDB information and store as csv file"
   ]
  },
  {
   "cell_type": "code",
   "execution_count": 21,
   "id": "ec859d33",
   "metadata": {},
   "outputs": [],
   "source": [
    "def get_ligands(pdb_id):\n",
    "    \"\"\"\n",
    "    RCSB has not provided a new endpoint for ligand information yet. As a\n",
    "    workaround we are obtaining extra information from ligand-expo.rcsb.org,\n",
    "    using HTML parsing. Check Talktorial T011 for more info on this technique!\n",
    "    \"\"\"\n",
    "    pdb_info = _fetch_pdb_nonpolymer_info(pdb_id)\n",
    "    ligand_expo_ids = [\n",
    "        nonpolymer_entities[\"pdbx_entity_nonpoly\"][\"comp_id\"]\n",
    "        for nonpolymer_entities in pdb_info[\"data\"][\"entry\"][\"nonpolymer_entities\"]\n",
    "    ]\n",
    "\n",
    "    ligands = {}\n",
    "    for ligand_expo_id in ligand_expo_ids:\n",
    "        ligand_expo_info = _fetch_ligand_expo_info(ligand_expo_id)\n",
    "        ligands[ligand_expo_id] = ligand_expo_info\n",
    "\n",
    "    return ligands\n",
    "\n",
    "\n",
    "def _fetch_pdb_nonpolymer_info(pdb_id):\n",
    "    \"\"\"\n",
    "    Fetch nonpolymer data from rcsb.org.\n",
    "    Thanks @BJWiley233 and Rachel Green for this GraphQL solution.\n",
    "    \"\"\"\n",
    "    query = (\n",
    "        \"\"\"{\n",
    "          entry(entry_id: \"%s\") {\n",
    "            nonpolymer_entities {\n",
    "              pdbx_entity_nonpoly {\n",
    "                comp_id\n",
    "                name\n",
    "                rcsb_prd_id\n",
    "              }\n",
    "            }\n",
    "          }\n",
    "        }\"\"\"\n",
    "        % pdb_id\n",
    "    )\n",
    "\n",
    "    query_url = f\"https://data.rcsb.org/graphql?query={query}\"\n",
    "    response = requests.get(query_url)\n",
    "    response.raise_for_status()\n",
    "    info = response.json()\n",
    "    return info\n",
    "\n",
    "\n",
    "def _fetch_ligand_expo_info(ligand_expo_id):\n",
    "    \"\"\"\n",
    "    Fetch ligand data from ligand-expo.rcsb.org.\n",
    "    \"\"\"\n",
    "    r = requests.get(f\"http://ligand-expo.rcsb.org/reports/{ligand_expo_id[0]}/{ligand_expo_id}/\")\n",
    "    r.raise_for_status()\n",
    "    html = BeautifulSoup(r.text)\n",
    "    info = {}\n",
    "    for table in html.find_all(\"table\"):\n",
    "        for row in table.find_all(\"tr\"):\n",
    "            cells = row.find_all(\"td\")\n",
    "            if len(cells) != 2:\n",
    "                continue\n",
    "            key, value = cells\n",
    "            if key.string and key.string.strip():\n",
    "                info[key.string.strip()] = \"\".join(value.find_all(string=True))\n",
    "\n",
    "    # Postprocess some known values\n",
    "    info[\"Molecular weight\"] = float(info[\"Molecular weight\"].split()[0])\n",
    "    info[\"Formal charge\"] = int(info[\"Formal charge\"])\n",
    "    info[\"Atom count\"] = int(info[\"Atom count\"])\n",
    "    info[\"Chiral atom count\"] = int(info[\"Chiral atom count\"])\n",
    "    info[\"Bond count\"] = int(info[\"Bond count\"])\n",
    "    info[\"Aromatic bond count\"] = int(info[\"Aromatic bond count\"])\n",
    "    return info"
   ]
  },
  {
   "cell_type": "code",
   "execution_count": 22,
   "id": "80538a56",
   "metadata": {},
   "outputs": [],
   "source": [
    "columns = [\n",
    "    \"@structureId\",\n",
    "    \"@chemicalID\",\n",
    "    \"@type\",\n",
    "    \"@molecularWeight\",\n",
    "    \"chemicalName\",\n",
    "    \"formula\",\n",
    "    \"InChI\",\n",
    "    \"InChIKey\",\n",
    "    \"smiles\",\n",
    "]\n",
    "rows = []\n",
    "for pdb_id in selected_pdb_ids:\n",
    "    ligands = get_ligands(pdb_id)\n",
    "    # If several ligands contained, take largest (first in results)\n",
    "    ligand_id, properties = max(ligands.items(), key=lambda kv: kv[1][\"Molecular weight\"])\n",
    "    rows.append(\n",
    "        [\n",
    "            pdb_id,\n",
    "            ligand_id,\n",
    "            properties[\"Component type\"],\n",
    "            properties[\"Molecular weight\"],\n",
    "            properties[\"Name\"],\n",
    "            properties[\"Formula\"],\n",
    "            properties[\"InChI descriptor\"],\n",
    "            properties[\"InChIKey descriptor\"],\n",
    "            properties[\"Stereo SMILES (OpenEye)\"],\n",
    "        ]\n",
    "    )"
   ]
  },
  {
   "cell_type": "code",
   "execution_count": 23,
   "id": "ed3b0d98",
   "metadata": {},
   "outputs": [
    {
     "data": {
      "text/html": [
       "<div>\n",
       "<style scoped>\n",
       "    .dataframe tbody tr th:only-of-type {\n",
       "        vertical-align: middle;\n",
       "    }\n",
       "\n",
       "    .dataframe tbody tr th {\n",
       "        vertical-align: top;\n",
       "    }\n",
       "\n",
       "    .dataframe thead th {\n",
       "        text-align: right;\n",
       "    }\n",
       "</style>\n",
       "<table border=\"1\" class=\"dataframe\">\n",
       "  <thead>\n",
       "    <tr style=\"text-align: right;\">\n",
       "      <th></th>\n",
       "      <th>@structureId</th>\n",
       "      <th>@chemicalID</th>\n",
       "      <th>@type</th>\n",
       "      <th>@molecularWeight</th>\n",
       "      <th>chemicalName</th>\n",
       "      <th>formula</th>\n",
       "      <th>InChI</th>\n",
       "      <th>InChIKey</th>\n",
       "      <th>smiles</th>\n",
       "    </tr>\n",
       "  </thead>\n",
       "  <tbody>\n",
       "    <tr>\n",
       "      <th>0</th>\n",
       "      <td>6UDV</td>\n",
       "      <td>Q51</td>\n",
       "      <td>NON-POLYMER</td>\n",
       "      <td>599.180</td>\n",
       "      <td>(4S,7aR,9aR,10S,11E,14S,15R)-6'-chloro-10-hydr...</td>\n",
       "      <td>C32 H39 Cl N2 O5 S</td>\n",
       "      <td>InChI=1S/C32H39ClN2O5S/c1-20-5-3-7-29(36)26-11...</td>\n",
       "      <td>VRSBISSEYLZZBN-ZYVWNYNNSA-N</td>\n",
       "      <td>C[C@H]1C/C=C/[C@@H]([C@@H]2CC[C@H]2C[N@@]3C[C@...</td>\n",
       "    </tr>\n",
       "    <tr>\n",
       "      <th>1</th>\n",
       "      <td>6OQD</td>\n",
       "      <td>N0M</td>\n",
       "      <td>NON-POLYMER</td>\n",
       "      <td>587.170</td>\n",
       "      <td>(4S,7aR,9aR,10S,15R)-6'-chloro-10-hydroxy-15-m...</td>\n",
       "      <td>C31 H39 Cl N2 O5 S</td>\n",
       "      <td>InChI=1S/C31H39ClN2O5S/c1-20-5-2-3-7-28(35)25-...</td>\n",
       "      <td>BNATWTSFOSDXBZ-CQYHMPFISA-N</td>\n",
       "      <td>C[C@@H]1CCCC[C@@H]([C@@H]2CC[C@H]2C[N@@]3C[C@@...</td>\n",
       "    </tr>\n",
       "    <tr>\n",
       "      <th>2</th>\n",
       "      <td>6UDT</td>\n",
       "      <td>Q4V</td>\n",
       "      <td>NON-POLYMER</td>\n",
       "      <td>595.126</td>\n",
       "      <td>(4S,7aR,9aR,10S,11E,18R)-6'-chloro-10,18-dihyd...</td>\n",
       "      <td>C33 H39 Cl N2 O6</td>\n",
       "      <td>InChI=1S/C33H39ClN2O6/c1-35-14-3-2-6-28(37)25-...</td>\n",
       "      <td>LHIKAJSPOXPDMX-FZJWRLMFSA-N</td>\n",
       "      <td>CN1CC/C=C/[C@@H]([C@@H]2CC[C@H]2CN3C[C@@]4(CCC...</td>\n",
       "    </tr>\n",
       "    <tr>\n",
       "      <th>3</th>\n",
       "      <td>5FC4</td>\n",
       "      <td>5WL</td>\n",
       "      <td>NON-POLYMER</td>\n",
       "      <td>456.942</td>\n",
       "      <td>6-chloranyl-~{N}-methylsulfonyl-3-(3-naphthale...</td>\n",
       "      <td>C23 H21 Cl N2 O4 S</td>\n",
       "      <td>InChI=1S/C23H21ClN2O4S/c1-31(28,29)26-23(27)22...</td>\n",
       "      <td>UTSWEVNFLYKBLS-UHFFFAOYSA-N</td>\n",
       "      <td>CS(=O)(=O)NC(=O)c1c(c2ccc(cc2[nH]1)Cl)CCCOc3cc...</td>\n",
       "    </tr>\n",
       "    <tr>\n",
       "      <th>4</th>\n",
       "      <td>4WMU</td>\n",
       "      <td>19H</td>\n",
       "      <td>NON-POLYMER</td>\n",
       "      <td>392.276</td>\n",
       "      <td>6-chloro-3-[3-(4-chloro-3,5-dimethylphenoxy)pr...</td>\n",
       "      <td>C20 H19 Cl2 N O3</td>\n",
       "      <td>InChI=1S/C20H19Cl2NO3/c1-11-8-14(9-12(2)18(11)...</td>\n",
       "      <td>MCMWRWKXPXXZAS-UHFFFAOYSA-N</td>\n",
       "      <td>Cc1cc(cc(c1Cl)C)OCCCc2c3ccc(cc3[nH]c2C(=O)O)Cl</td>\n",
       "    </tr>\n",
       "    <tr>\n",
       "      <th>5</th>\n",
       "      <td>6OQB</td>\n",
       "      <td>N0J</td>\n",
       "      <td>NON-POLYMER</td>\n",
       "      <td>599.180</td>\n",
       "      <td>(4S,7aR,9aR,10S,11E,15R)-6'-chloro-15-ethyl-10...</td>\n",
       "      <td>C32 H39 Cl N2 O5 S</td>\n",
       "      <td>InChI=1S/C32H39ClN2O5S/c1-2-25-7-3-4-8-29(36)2...</td>\n",
       "      <td>ZZVVBMLGOHPTPZ-ZHYCUCQBSA-N</td>\n",
       "      <td>CC[C@@H]1CC/C=C/[C@@H]([C@@H]2CC[C@H]2C[N@@]3C...</td>\n",
       "    </tr>\n",
       "  </tbody>\n",
       "</table>\n",
       "</div>"
      ],
      "text/plain": [
       "  @structureId @chemicalID        @type  @molecularWeight  \\\n",
       "0         6UDV         Q51  NON-POLYMER           599.180   \n",
       "1         6OQD         N0M  NON-POLYMER           587.170   \n",
       "2         6UDT         Q4V  NON-POLYMER           595.126   \n",
       "3         5FC4         5WL  NON-POLYMER           456.942   \n",
       "4         4WMU         19H  NON-POLYMER           392.276   \n",
       "5         6OQB         N0J  NON-POLYMER           599.180   \n",
       "\n",
       "                                        chemicalName             formula  \\\n",
       "0  (4S,7aR,9aR,10S,11E,14S,15R)-6'-chloro-10-hydr...  C32 H39 Cl N2 O5 S   \n",
       "1  (4S,7aR,9aR,10S,15R)-6'-chloro-10-hydroxy-15-m...  C31 H39 Cl N2 O5 S   \n",
       "2  (4S,7aR,9aR,10S,11E,18R)-6'-chloro-10,18-dihyd...    C33 H39 Cl N2 O6   \n",
       "3  6-chloranyl-~{N}-methylsulfonyl-3-(3-naphthale...  C23 H21 Cl N2 O4 S   \n",
       "4  6-chloro-3-[3-(4-chloro-3,5-dimethylphenoxy)pr...    C20 H19 Cl2 N O3   \n",
       "5  (4S,7aR,9aR,10S,11E,15R)-6'-chloro-15-ethyl-10...  C32 H39 Cl N2 O5 S   \n",
       "\n",
       "                                               InChI  \\\n",
       "0  InChI=1S/C32H39ClN2O5S/c1-20-5-3-7-29(36)26-11...   \n",
       "1  InChI=1S/C31H39ClN2O5S/c1-20-5-2-3-7-28(35)25-...   \n",
       "2  InChI=1S/C33H39ClN2O6/c1-35-14-3-2-6-28(37)25-...   \n",
       "3  InChI=1S/C23H21ClN2O4S/c1-31(28,29)26-23(27)22...   \n",
       "4  InChI=1S/C20H19Cl2NO3/c1-11-8-14(9-12(2)18(11)...   \n",
       "5  InChI=1S/C32H39ClN2O5S/c1-2-25-7-3-4-8-29(36)2...   \n",
       "\n",
       "                      InChIKey  \\\n",
       "0  VRSBISSEYLZZBN-ZYVWNYNNSA-N   \n",
       "1  BNATWTSFOSDXBZ-CQYHMPFISA-N   \n",
       "2  LHIKAJSPOXPDMX-FZJWRLMFSA-N   \n",
       "3  UTSWEVNFLYKBLS-UHFFFAOYSA-N   \n",
       "4  MCMWRWKXPXXZAS-UHFFFAOYSA-N   \n",
       "5  ZZVVBMLGOHPTPZ-ZHYCUCQBSA-N   \n",
       "\n",
       "                                              smiles  \n",
       "0  C[C@H]1C/C=C/[C@@H]([C@@H]2CC[C@H]2C[N@@]3C[C@...  \n",
       "1  C[C@@H]1CCCC[C@@H]([C@@H]2CC[C@H]2C[N@@]3C[C@@...  \n",
       "2  CN1CC/C=C/[C@@H]([C@@H]2CC[C@H]2CN3C[C@@]4(CCC...  \n",
       "3  CS(=O)(=O)NC(=O)c1c(c2ccc(cc2[nH]1)Cl)CCCOc3cc...  \n",
       "4     Cc1cc(cc(c1Cl)C)OCCCc2c3ccc(cc3[nH]c2C(=O)O)Cl  \n",
       "5  CC[C@@H]1CC/C=C/[C@@H]([C@@H]2CC[C@H]2C[N@@]3C...  "
      ]
     },
     "execution_count": 23,
     "metadata": {},
     "output_type": "execute_result"
    }
   ],
   "source": [
    "# Change the format to DataFrame\n",
    "ligands = pd.DataFrame(rows, columns=columns)\n",
    "ligands"
   ]
  },
  {
   "cell_type": "code",
   "execution_count": 24,
   "id": "2619a0ef",
   "metadata": {},
   "outputs": [],
   "source": [
    "# Store as csv file\n",
    "ligands.to_csv(DATA / \"PDB_top_ligands.csv\", header=True, index=False)"
   ]
  },
  {
   "cell_type": "markdown",
   "id": "465426dc",
   "metadata": {},
   "source": [
    "### Draw top ligand molecules"
   ]
  },
  {
   "cell_type": "code",
   "execution_count": 25,
   "id": "54f37042",
   "metadata": {},
   "outputs": [
    {
     "data": {
      "image/png": "[encoded data removed]",
      "text/plain": [
       "<IPython.core.display.Image object>"
      ]
     },
     "execution_count": 25,
     "metadata": {},
     "output_type": "execute_result"
    }
   ],
   "source": [
    "PandasTools.AddMoleculeColumnToFrame(ligands, \"smiles\")\n",
    "Draw.MolsToGridImage(\n",
    "    mols=list(ligands.ROMol),\n",
    "    legends=list(ligands[\"@chemicalID\"] + \", \" + ligands[\"@structureId\"]),\n",
    "    molsPerRow=top_num,\n",
    ")"
   ]
  },
  {
   "cell_type": "markdown",
   "id": "e36fa3cc",
   "metadata": {},
   "source": [
    "### Create protein-ligand ID pairs"
   ]
  },
  {
   "cell_type": "code",
   "execution_count": 26,
   "id": "4d2b13de",
   "metadata": {},
   "outputs": [
    {
     "data": {
      "text/plain": [
       "OrderedDict([('6UDV', 'Q51'),\n",
       "             ('6OQD', 'N0M'),\n",
       "             ('6UDT', 'Q4V'),\n",
       "             ('5FC4', '5WL'),\n",
       "             ('4WMU', '19H'),\n",
       "             ('6OQB', 'N0J')])"
      ]
     },
     "execution_count": 26,
     "metadata": {},
     "output_type": "execute_result"
    }
   ],
   "source": [
    "pairs = collections.OrderedDict(zip(ligands[\"@structureId\"], ligands[\"@chemicalID\"]))\n",
    "pairs"
   ]
  },
  {
   "cell_type": "markdown",
   "id": "07f72f68",
   "metadata": {},
   "source": [
    "### Align PDB structures and extract ligands"
   ]
  },
  {
   "cell_type": "code",
   "execution_count": 27,
   "id": "15f5665b",
   "metadata": {},
   "outputs": [
    {
     "data": {
      "text/plain": [
       "[<Universe with 1439 atoms>,\n",
       " <Universe with 1466 atoms>,\n",
       " <Universe with 1440 atoms>,\n",
       " <Universe with 1439 atoms>,\n",
       " <Universe with 4619 atoms>,\n",
       " <Universe with 2730 atoms>]"
      ]
     },
     "execution_count": 27,
     "metadata": {},
     "output_type": "execute_result"
    }
   ],
   "source": [
    "# Download PDB structures\n",
    "structures = [Structure.from_pdbid(pdb_id) for pdb_id in pairs]\n",
    "structures"
   ]
  },
  {
   "cell_type": "code",
   "execution_count": 28,
   "id": "58d8ce2c",
   "metadata": {},
   "outputs": [
    {
     "data": {
      "text/plain": [
       "[<Universe with 1283 atoms>,\n",
       " <Universe with 1295 atoms>,\n",
       " <Universe with 1288 atoms>,\n",
       " <Universe with 1204 atoms>,\n",
       " <Universe with 4032 atoms>,\n",
       " <Universe with 2581 atoms>]"
      ]
     },
     "execution_count": 28,
     "metadata": {},
     "output_type": "execute_result"
    }
   ],
   "source": [
    "### Extract protein and ligand to remove solvent and other artifacts of crystallography\n",
    "complexes = [\n",
    "    Structure.from_atomgroup(structure.select_atoms(f\"protein or resname {ligand}\"))\n",
    "    for structure, ligand in zip(structures, pairs.values())\n",
    "]\n",
    "complexes"
   ]
  },
  {
   "cell_type": "code",
   "execution_count": 29,
   "id": "a6a37882",
   "metadata": {},
   "outputs": [],
   "source": [
    "# Write complex to file\n",
    "for complex_, pdb_id in zip(complexes, pairs.keys()):\n",
    "    complex_.write(DATA / f\"{pdb_id}.pdb\")"
   ]
  },
  {
   "cell_type": "markdown",
   "id": "03aa0dea",
   "metadata": {},
   "source": [
    "### Align proteins"
   ]
  },
  {
   "cell_type": "code",
   "execution_count": 30,
   "id": "6b298096",
   "metadata": {},
   "outputs": [
    {
     "ename": "AttributeError",
     "evalue": "module 'Bio' has no attribute 'Alphabet'",
     "output_type": "error",
     "traceback": [
      "\u001b[0;31m---------------------------------------------------------------------------\u001b[0m",
      "\u001b[0;31mAttributeError\u001b[0m                            Traceback (most recent call last)",
      "Input \u001b[0;32mIn [30]\u001b[0m, in \u001b[0;36m<cell line: 1>\u001b[0;34m()\u001b[0m\n\u001b[0;32m----> 1\u001b[0m results \u001b[38;5;241m=\u001b[39m \u001b[43malign\u001b[49m\u001b[43m(\u001b[49m\u001b[43mcomplexes\u001b[49m\u001b[43m,\u001b[49m\u001b[43m \u001b[49m\u001b[43mmethod\u001b[49m\u001b[38;5;241;43m=\u001b[39;49m\u001b[43mMETHODS\u001b[49m\u001b[43m[\u001b[49m\u001b[38;5;124;43m\"\u001b[39;49m\u001b[38;5;124;43mmda\u001b[39;49m\u001b[38;5;124;43m\"\u001b[39;49m\u001b[43m]\u001b[49m\u001b[43m)\u001b[49m\n",
      "File \u001b[0;32m/opt/conda/lib/python3.9/site-packages/opencadd/structure/superposition/api.py:94\u001b[0m, in \u001b[0;36malign\u001b[0;34m(structures, user_select, method, **kwargs)\u001b[0m\n\u001b[1;32m     92\u001b[0m \u001b[38;5;28;01mfor\u001b[39;00m mobile \u001b[38;5;129;01min\u001b[39;00m mobiles:\n\u001b[1;32m     93\u001b[0m     mobile \u001b[38;5;241m=\u001b[39m _universe_to_atomgroup(mobile)\n\u001b[0;32m---> 94\u001b[0m     result \u001b[38;5;241m=\u001b[39m \u001b[43maligner\u001b[49m\u001b[38;5;241;43m.\u001b[39;49m\u001b[43mcalculate\u001b[49m\u001b[43m(\u001b[49m\u001b[43mstructures\u001b[49m\u001b[38;5;241;43m=\u001b[39;49m\u001b[43m[\u001b[49m\u001b[43mreference\u001b[49m\u001b[43m,\u001b[49m\u001b[43m \u001b[49m\u001b[43mmobile\u001b[49m\u001b[43m]\u001b[49m\u001b[43m,\u001b[49m\u001b[43m \u001b[49m\u001b[43mselections\u001b[49m\u001b[38;5;241;43m=\u001b[39;49m\u001b[43m[\u001b[49m\u001b[43m]\u001b[49m\u001b[43m)\u001b[49m\n\u001b[1;32m     95\u001b[0m     \u001b[38;5;66;03m# size of whole structures\u001b[39;00m\n\u001b[1;32m     96\u001b[0m     reference_size \u001b[38;5;241m=\u001b[39m \u001b[38;5;28mlen\u001b[39m(reference\u001b[38;5;241m.\u001b[39mresidues)\n",
      "File \u001b[0;32m/opt/conda/lib/python3.9/site-packages/opencadd/structure/superposition/engines/base.py:37\u001b[0m, in \u001b[0;36mBaseAligner.calculate\u001b[0;34m(self, structures, selections, *args, **kwargs)\u001b[0m\n\u001b[1;32m     34\u001b[0m message \u001b[38;5;241m=\u001b[39m \u001b[38;5;124m\"\u001b[39m\u001b[38;5;124mThis method can only be used for two structures at the same time, for now\u001b[39m\u001b[38;5;124m\"\u001b[39m\n\u001b[1;32m     35\u001b[0m \u001b[38;5;28;01massert\u001b[39;00m \u001b[38;5;28mlen\u001b[39m(structures) \u001b[38;5;241m==\u001b[39m \u001b[38;5;241m2\u001b[39m, message\n\u001b[0;32m---> 37\u001b[0m \u001b[38;5;28;01mreturn\u001b[39;00m \u001b[38;5;28;43mself\u001b[39;49m\u001b[38;5;241;43m.\u001b[39;49m\u001b[43m_calculate\u001b[49m\u001b[43m(\u001b[49m\u001b[43mstructures\u001b[49m\u001b[43m,\u001b[49m\u001b[43m \u001b[49m\u001b[43mselections\u001b[49m\u001b[43m,\u001b[49m\u001b[43m \u001b[49m\u001b[38;5;241;43m*\u001b[39;49m\u001b[43margs\u001b[49m\u001b[43m,\u001b[49m\u001b[43m \u001b[49m\u001b[38;5;241;43m*\u001b[39;49m\u001b[38;5;241;43m*\u001b[39;49m\u001b[43mkwargs\u001b[49m\u001b[43m)\u001b[49m\n",
      "File \u001b[0;32m/opt/conda/lib/python3.9/site-packages/opencadd/structure/superposition/engines/mda.py:139\u001b[0m, in \u001b[0;36mMDAnalysisAligner._calculate\u001b[0;34m(self, structures, selections, *args, **kwargs)\u001b[0m\n\u001b[1;32m    136\u001b[0m ref_selection, mob_selection \u001b[38;5;241m=\u001b[39m selections\n\u001b[1;32m    138\u001b[0m \u001b[38;5;66;03m# Get matching atoms of selection\u001b[39;00m\n\u001b[0;32m--> 139\u001b[0m selection, alignment \u001b[38;5;241m=\u001b[39m \u001b[38;5;28;43mself\u001b[39;49m\u001b[38;5;241;43m.\u001b[39;49m\u001b[43mmatching_selection\u001b[49m\u001b[43m(\u001b[49m\u001b[38;5;241;43m*\u001b[39;49m\u001b[43mselections\u001b[49m\u001b[43m)\u001b[49m\n\u001b[1;32m    140\u001b[0m ref_atoms \u001b[38;5;241m=\u001b[39m ref_selection\u001b[38;5;241m.\u001b[39mselect_atoms(selection[\u001b[38;5;124m\"\u001b[39m\u001b[38;5;124mreference\u001b[39m\u001b[38;5;124m\"\u001b[39m])\n\u001b[1;32m    141\u001b[0m mobile_atoms \u001b[38;5;241m=\u001b[39m mob_selection\u001b[38;5;241m.\u001b[39mselect_atoms(selection[\u001b[38;5;124m\"\u001b[39m\u001b[38;5;124mmobile\u001b[39m\u001b[38;5;124m\"\u001b[39m])\n",
      "File \u001b[0;32m/opt/conda/lib/python3.9/site-packages/opencadd/structure/superposition/engines/mda.py:232\u001b[0m, in \u001b[0;36mMDAnalysisAligner.matching_selection\u001b[0;34m(self, ref_selection, mob_selection)\u001b[0m\n\u001b[1;32m    230\u001b[0m     fasta[\u001b[38;5;124m\"\u001b[39m\u001b[38;5;124mref\u001b[39m\u001b[38;5;124m\"\u001b[39m], fasta[\u001b[38;5;124m\"\u001b[39m\u001b[38;5;124mmob\u001b[39m\u001b[38;5;124m\"\u001b[39m], \u001b[38;5;241m*\u001b[39m_empty \u001b[38;5;241m=\u001b[39m alignment\u001b[38;5;241m.\u001b[39mget_gapped_sequences()\n\u001b[1;32m    231\u001b[0m     fasta\u001b[38;5;241m.\u001b[39mwrite(\u001b[38;5;124m\"\u001b[39m\u001b[38;5;124mtemp.fasta\u001b[39m\u001b[38;5;124m\"\u001b[39m)\n\u001b[0;32m--> 232\u001b[0m     selection \u001b[38;5;241m=\u001b[39m \u001b[43mfasta2select\u001b[49m\u001b[43m(\u001b[49m\n\u001b[1;32m    233\u001b[0m \u001b[43m        \u001b[49m\u001b[38;5;124;43m\"\u001b[39;49m\u001b[38;5;124;43mtemp.fasta\u001b[39;49m\u001b[38;5;124;43m\"\u001b[39;49m\u001b[43m,\u001b[49m\n\u001b[1;32m    234\u001b[0m \u001b[43m        \u001b[49m\u001b[43mref_resids\u001b[49m\u001b[38;5;241;43m=\u001b[39;49m\u001b[43mref_resids\u001b[49m\u001b[43m,\u001b[49m\n\u001b[1;32m    235\u001b[0m \u001b[43m        \u001b[49m\u001b[43mtarget_resids\u001b[49m\u001b[38;5;241;43m=\u001b[39;49m\u001b[43mmob_resids\u001b[49m\u001b[43m,\u001b[49m\n\u001b[1;32m    236\u001b[0m \u001b[43m        \u001b[49m\u001b[43mref_segids\u001b[49m\u001b[38;5;241;43m=\u001b[39;49m\u001b[43mref_segids\u001b[49m\u001b[43m,\u001b[49m\n\u001b[1;32m    237\u001b[0m \u001b[43m        \u001b[49m\u001b[43mtarget_segids\u001b[49m\u001b[38;5;241;43m=\u001b[39;49m\u001b[43mmob_segids\u001b[49m\u001b[43m,\u001b[49m\n\u001b[1;32m    238\u001b[0m \u001b[43m        \u001b[49m\u001b[43mbackbone_selection\u001b[49m\u001b[38;5;241;43m=\u001b[39;49m\u001b[38;5;28;43mself\u001b[39;49m\u001b[38;5;241;43m.\u001b[39;49m\u001b[43mper_residue_selection\u001b[49m\u001b[43m,\u001b[49m\n\u001b[1;32m    239\u001b[0m \u001b[43m    \u001b[49m\u001b[43m)\u001b[49m\n\u001b[1;32m    240\u001b[0m \u001b[38;5;28;01mreturn\u001b[39;00m selection, alignment\n",
      "File \u001b[0;32m/opt/conda/lib/python3.9/site-packages/opencadd/structure/superposition/sequences.py:117\u001b[0m, in \u001b[0;36mfasta2select\u001b[0;34m(fastafilename, ref_resids, ref_segids, target_resids, target_segids, backbone_selection)\u001b[0m\n\u001b[1;32m     82\u001b[0m \u001b[38;5;28;01mdef\u001b[39;00m \u001b[38;5;21mfasta2select\u001b[39m(\n\u001b[1;32m     83\u001b[0m     fastafilename,\n\u001b[1;32m     84\u001b[0m     ref_resids\u001b[38;5;241m=\u001b[39m\u001b[38;5;28;01mNone\u001b[39;00m,\n\u001b[0;32m   (...)\u001b[0m\n\u001b[1;32m     88\u001b[0m     backbone_selection\u001b[38;5;241m=\u001b[39m\u001b[38;5;124m\"\u001b[39m\u001b[38;5;124mbackbone or name CB\u001b[39m\u001b[38;5;124m\"\u001b[39m,\n\u001b[1;32m     89\u001b[0m ):\n\u001b[1;32m     90\u001b[0m     \u001b[38;5;124;03m\"\"\"Return selection strings that will select equivalent residues.\u001b[39;00m\n\u001b[1;32m     91\u001b[0m \n\u001b[1;32m     92\u001b[0m \u001b[38;5;124;03m    The function takes two pre-aligned sequences in a FASTA file and\u001b[39;00m\n\u001b[0;32m   (...)\u001b[0m\n\u001b[1;32m    115\u001b[0m \n\u001b[1;32m    116\u001b[0m \u001b[38;5;124;03m    \"\"\"\u001b[39;00m\n\u001b[0;32m--> 117\u001b[0m     protein_gapped \u001b[38;5;241m=\u001b[39m \u001b[43mBio\u001b[49m\u001b[38;5;241;43m.\u001b[39;49m\u001b[43mAlphabet\u001b[49m\u001b[38;5;241m.\u001b[39mGapped(Bio\u001b[38;5;241m.\u001b[39mAlphabet\u001b[38;5;241m.\u001b[39mIUPAC\u001b[38;5;241m.\u001b[39mprotein)\n\u001b[1;32m    118\u001b[0m     \u001b[38;5;28;01mwith\u001b[39;00m \u001b[38;5;28mopen\u001b[39m(fastafilename) \u001b[38;5;28;01mas\u001b[39;00m fasta:\n\u001b[1;32m    119\u001b[0m         alignment \u001b[38;5;241m=\u001b[39m Bio\u001b[38;5;241m.\u001b[39mAlignIO\u001b[38;5;241m.\u001b[39mread(fasta, \u001b[38;5;124m\"\u001b[39m\u001b[38;5;124mfasta\u001b[39m\u001b[38;5;124m\"\u001b[39m, alphabet\u001b[38;5;241m=\u001b[39mprotein_gapped)\n",
      "\u001b[0;31mAttributeError\u001b[0m: module 'Bio' has no attribute 'Alphabet'"
     ]
    }
   ],
   "source": [
    "results = align(complexes, method=METHODS[\"mda\"])"
   ]
  },
  {
   "cell_type": "markdown",
   "id": "07a5061a",
   "metadata": {},
   "source": [
    "### Visualize out aligned protein-ligand complexes"
   ]
  },
  {
   "cell_type": "code",
   "execution_count": 31,
   "id": "6953c3d8",
   "metadata": {
    "scrolled": true
   },
   "outputs": [
    {
     "data": {
      "image/png": "\n",
      "text/plain": [
       "<IPython.core.display.Image object>"
      ]
     },
     "execution_count": 31,
     "metadata": {},
     "output_type": "execute_result"
    }
   ],
   "source": [
    "view = nglview.NGLWidget()\n",
    "for complex_ in complexes:\n",
    "    view.add_component(complex_.atoms)\n",
    "view\n",
    "\n",
    "view.render_image(trim=True, factor=2, transparent=True);\n",
    "view._display_image()"
   ]
  },
  {
   "cell_type": "markdown",
   "id": "55d9d744",
   "metadata": {},
   "source": [
    "### Extract ligands"
   ]
  },
  {
   "cell_type": "code",
   "execution_count": 32,
   "id": "f4e32bda",
   "metadata": {},
   "outputs": [
    {
     "data": {
      "text/plain": [
       "[<Universe with 41 atoms>,\n",
       " <Universe with 40 atoms>,\n",
       " <Universe with 42 atoms>,\n",
       " <Universe with 62 atoms>,\n",
       " <Universe with 26 atoms>,\n",
       " <Universe with 80 atoms>]"
      ]
     },
     "execution_count": 32,
     "metadata": {},
     "output_type": "execute_result"
    }
   ],
   "source": [
    "ligands = [\n",
    "    Structure.from_atomgroup(complex_.select_atoms(f\"resname {ligand}\"))\n",
    "    for complex_, ligand in zip(complexes, pairs.values())\n",
    "]\n",
    "ligands"
   ]
  },
  {
   "cell_type": "code",
   "execution_count": 33,
   "id": "bb857b47",
   "metadata": {},
   "outputs": [],
   "source": [
    "for ligand, pdb_id in zip(ligands, pairs.keys()):\n",
    "    ligand.write(DATA / f\"{pdb_id}_lig.pdb\")"
   ]
  },
  {
   "cell_type": "markdown",
   "id": "8687ca45",
   "metadata": {},
   "source": [
    "### Check the existence of all ligand pdb files"
   ]
  },
  {
   "cell_type": "code",
   "execution_count": 34,
   "id": "f4c7c14d",
   "metadata": {},
   "outputs": [
    {
     "data": {
      "text/plain": [
       "['6UDV_lig.pdb',\n",
       " '6OQD_lig.pdb',\n",
       " '6UDT_lig.pdb',\n",
       " '6OQB_lig.pdb',\n",
       " '5FC4_lig.pdb',\n",
       " '4WMU_lig.pdb']"
      ]
     },
     "execution_count": 34,
     "metadata": {},
     "output_type": "execute_result"
    }
   ],
   "source": [
    "ligand_files = []\n",
    "for file in DATA.glob(\"*_lig.pdb\"):\n",
    "    ligand_files.append(file.name)\n",
    "ligand_files"
   ]
  },
  {
   "cell_type": "code",
   "execution_count": 35,
   "id": "c85d6215",
   "metadata": {},
   "outputs": [
    {
     "data": {
      "image/png": "\n",
      "text/plain": [
       "<IPython.core.display.Image object>"
      ]
     },
     "execution_count": 35,
     "metadata": {},
     "output_type": "execute_result"
    }
   ],
   "source": [
    "view = nglview.NGLWidget()\n",
    "for component_id, ligand in enumerate(ligands):\n",
    "    view.add_component(ligand.atoms)\n",
    "    view.remove_ball_and_stick(component=component_id)\n",
    "    view.add_licorice(component=component_id)\n",
    "view\n",
    "\n",
    "view.render_image(trim=True, factor=2, transparent=True);\n",
    "\n",
    "view._display_image()"
   ]
  }
 ],
 "metadata": {
  "kernelspec": {
   "display_name": "Python 3 (ipykernel)",
   "language": "python",
   "name": "python3"
  },
  "language_info": {
   "codemirror_mode": {
    "name": "ipython",
    "version": 3
   },
   "file_extension": ".py",
   "mimetype": "text/x-python",
   "name": "python",
   "nbconvert_exporter": "python",
   "pygments_lexer": "ipython3",
   "version": "3.9.12"
  }
 },
 "nbformat": 4,
 "nbformat_minor": 5
}
