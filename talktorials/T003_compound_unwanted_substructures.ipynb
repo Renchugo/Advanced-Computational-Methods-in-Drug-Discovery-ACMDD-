{
 "cells": [
  {
   "cell_type": "code",
   "execution_count": null,
   "id": "15284c8c",
   "metadata": {},
   "outputs": [],
   "source": [
    "### T003_compound_unwanted_substructures"
   ]
  },
  {
   "cell_type": "code",
   "execution_count": 1,
   "id": "b2768f6b",
   "metadata": {},
   "outputs": [],
   "source": [
    "from pathlib import Path\n",
    "\n",
    "import pandas as pd\n",
    "from tqdm.auto import tqdm\n",
    "from rdkit import Chem\n",
    "from rdkit.Chem import PandasTools\n",
    "from rdkit.Chem.FilterCatalog import FilterCatalog, FilterCatalogParams"
   ]
  },
  {
   "cell_type": "code",
   "execution_count": null,
   "id": "fa4ba826",
   "metadata": {},
   "outputs": [],
   "source": [
    "# define paths\n",
    "HERE = Path(_dh[-1])\n",
    "DATA = HERE / \"data\""
   ]
  },
  {
   "cell_type": "code",
   "execution_count": null,
   "id": "f8096b82",
   "metadata": {},
   "outputs": [],
   "source": [
    "# Load data\n",
    "MCL1_data = pd.read_csv(\n",
    "    HERE / \"../T000_template/data/MCL1_compounds_lipinski.csv\",\n",
    "    index_col=0,\n",
    ")\n",
    "# Drop unnecessary information\n",
    "print(\"Dataframe shape:\", MCL1_data.shape)\n",
    "MCL1_data.drop(columns=[\"molecular_weight\", \"n_hbd\", \"n_hba\", \"logp\"], inplace=True)\n",
    "MCL1_data.head()"
   ]
  },
  {
   "cell_type": "code",
   "execution_count": null,
   "id": "781b632a",
   "metadata": {},
   "outputs": [],
   "source": [
    "# Add molecule column\n",
    "PandasTools.AddMoleculeColumnToFrame(MCL1_data, smilesCol=\"smiles\")\n",
    "# Draw first 3 molecules\n",
    "Chem.Draw.MolsToGridImage(\n",
    "    list(MCL1_data.head(3).ROMol),\n",
    "    legends=list(MCL1_data.head(3).molecule_chembl_id),\n",
    ")"
   ]
  },
  {
   "cell_type": "code",
   "execution_count": null,
   "id": "328c63e0",
   "metadata": {},
   "outputs": [],
   "source": [
    "# initialize filter\n",
    "params = FilterCatalogParams()\n",
    "params.AddCatalog(FilterCatalogParams.FilterCatalogs.PAINS)\n",
    "catalog = FilterCatalog(params)"
   ]
  },
  {
   "cell_type": "code",
   "execution_count": null,
   "id": "8f39ee7c",
   "metadata": {},
   "outputs": [],
   "source": [
    "# search for PAINS\n",
    "matches = []\n",
    "clean = []\n",
    "for index, row in tqdm(MCL1_data.iterrows(), total=MCL1_data.shape[0]):\n",
    "    molecule = Chem.MolFromSmiles(row.smiles)\n",
    "    entry = catalog.GetFirstMatch(molecule)  # Get the first matching PAINS\n",
    "    if entry is not None:\n",
    "        # store PAINS information\n",
    "        matches.append(\n",
    "            {\n",
    "                \"chembl_id\": row.molecule_chembl_id,\n",
    "                \"rdkit_molecule\": molecule,\n",
    "                \"pains\": entry.GetDescription().capitalize(),\n",
    "            }\n",
    "        )\n",
    "    else:\n",
    "        # collect indices of molecules without PAINS\n",
    "        clean.append(index)\n",
    "\n",
    "matches = pd.DataFrame(matches)\n",
    "MCL1_data = MCL1_data.loc[clean]  # keep molecules without PAINS"
   ]
  },
  {
   "cell_type": "code",
   "execution_count": null,
   "id": "03c8050c",
   "metadata": {},
   "outputs": [],
   "source": [
    "print(f\"Number of compounds with PAINS: {len(matches)}\")\n",
    "print(f\"Number of compounds without PAINS: {len(MCL1_data)}\")"
   ]
  },
  {
   "cell_type": "code",
   "execution_count": null,
   "id": "33fa104e",
   "metadata": {},
   "outputs": [],
   "source": [
    "Chem.Draw.MolsToGridImage(\n",
    "    list(matches.head(3).rdkit_molecule),\n",
    "    legends=list(matches.head(3)[\"pains\"]),\n",
    ")"
   ]
  },
  {
   "cell_type": "code",
   "execution_count": null,
   "id": "90412394",
   "metadata": {},
   "outputs": [],
   "source": [
    "substructures = pd.read_csv(\n",
    "    HERE / \"../T003_compound_unwanted_substructures/data/unwanted_substructures.csv\", sep=\"\\s+\")\n",
    "substructures[\"rdkit_molecule\"] = substructures.smarts.apply(Chem.MolFromSmarts)\n",
    "print(\"Number of unwanted substructures in collection:\", len(substructures))"
   ]
  },
  {
   "cell_type": "code",
   "execution_count": null,
   "id": "60d98db0",
   "metadata": {},
   "outputs": [],
   "source": [
    "Chem.Draw.MolsToGridImage(\n",
    "    mols=substructures.rdkit_molecule.tolist()[2:5],\n",
    "    legends=substructures.name.tolist()[2:5],\n",
    ")"
   ]
  },
  {
   "cell_type": "code",
   "execution_count": null,
   "id": "4397c044",
   "metadata": {},
   "outputs": [],
   "source": [
    "# search for unwanted substructure\n",
    "matches = []\n",
    "clean = []\n",
    "for index, row in tqdm(MCL1_data.iterrows(), total=MCL1_data.shape[0]):\n",
    "    molecule = Chem.MolFromSmiles(row.smiles)\n",
    "    match = False\n",
    "    for _, substructure in substructures.iterrows():\n",
    "        if molecule.HasSubstructMatch(substructure.rdkit_molecule):\n",
    "            matches.append(\n",
    "                {\n",
    "                    \"chembl_id\": row.molecule_chembl_id,\n",
    "                    \"rdkit_molecule\": molecule,\n",
    "                    \"substructure\": substructure.rdkit_molecule,\n",
    "                    \"substructure_name\": substructure[\"name\"],\n",
    "                }\n",
    "            )\n",
    "            match = True\n",
    "    if not match:\n",
    "        clean.append(index)\n",
    "\n",
    "matches = pd.DataFrame(matches)\n",
    "MCL1_data = MCL1_data.loc[clean]"
   ]
  },
  {
   "cell_type": "code",
   "execution_count": null,
   "id": "7fa92638",
   "metadata": {},
   "outputs": [],
   "source": [
    "print(f\"Number of found unwanted substructure: {len(matches)}\")\n",
    "print(f\"Number of compounds without unwanted substructure: {len(MCL1_data)}\")"
   ]
  },
  {
   "cell_type": "code",
   "execution_count": null,
   "id": "64559457",
   "metadata": {},
   "outputs": [],
   "source": [
    "to_highlight = [\n",
    "    row.rdkit_molecule.GetSubstructMatch(row.substructure) for _, row in matches.head(3).iterrows()\n",
    "]\n",
    "Chem.Draw.MolsToGridImage(\n",
    "    list(matches.head(3).rdkit_molecule),\n",
    "    highlightAtomLists=to_highlight,\n",
    "    legends=list(matches.head(3).substructure_name),\n",
    ")"
   ]
  },
  {
   "cell_type": "code",
   "execution_count": null,
   "id": "1919fc71",
   "metadata": {},
   "outputs": [],
   "source": [
    "groups = matches.groupby(\"substructure_name\")\n",
    "group_frequencies = groups.size()\n",
    "group_frequencies.sort_values(ascending=False, inplace=True)\n",
    "group_frequencies.head(10)"
   ]
  }
 ],
 "metadata": {
  "kernelspec": {
   "display_name": "Python 3 (ipykernel)",
   "language": "python",
   "name": "python3"
  },
  "language_info": {
   "codemirror_mode": {
    "name": "ipython",
    "version": 3
   },
   "file_extension": ".py",
   "mimetype": "text/x-python",
   "name": "python",
   "nbconvert_exporter": "python",
   "pygments_lexer": "ipython3",
   "version": "3.9.12"
  }
 },
 "nbformat": 4,
 "nbformat_minor": 5
}
